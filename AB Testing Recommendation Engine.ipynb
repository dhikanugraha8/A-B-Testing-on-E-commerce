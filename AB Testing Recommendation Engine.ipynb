{
 "cells": [
  {
   "cell_type": "markdown",
   "id": "a46634d6",
   "metadata": {},
   "source": [
    "## A/B Testing E-commerce Dataset"
   ]
  },
  {
   "cell_type": "markdown",
   "id": "1d77aab0",
   "metadata": {},
   "source": [
    "The dataset has information of 100k orders from 2016 to 2018 made at multiple marketplaces in Brazil. Its features allows viewing an order from multiple dimensions: from order status, price, payment and freight performance to customer location, product attributes and finally reviews written by customers. We also released a geolocation dataset that relates Brazilian zip codes to lat/lng coordinates\n",
    "\n",
    "url dataset = 'https://www.kaggle.com/datasets/olistbr/brazilian-ecommerce'"
   ]
  },
  {
   "cell_type": "markdown",
   "id": "073ed86d",
   "metadata": {},
   "source": [
    "This project will look for the relationship between shipping costs and buyer review rating values in determining the best sales strategy in e-commerce. Before that, it is necessary to determine a hypothesis for the possible results of the tests that will be carried out with the following details:\n",
    "1. The null hypothesis (h0) means there is no relationship between shipping costs and buyer review ratings\n",
    "2. The alternative hypothesis (ha) means that there is a relationship between shipping costs and buyer review ratings"
   ]
  },
  {
   "cell_type": "markdown",
   "id": "930bbf47",
   "metadata": {},
   "source": [
    "### Import Library & Dataset"
   ]
  },
  {
   "cell_type": "code",
   "execution_count": 1,
   "id": "8665cda5",
   "metadata": {},
   "outputs": [],
   "source": [
    "import numpy as np\n",
    "import pandas as pd\n",
    "import matplotlib.pyplot as plt\n",
    "import seaborn as sns\n",
    "import math\n",
    "import scipy\n",
    "from scipy import stats\n",
    "from statsmodels.stats.proportion import proportions_ztest"
   ]
  },
  {
   "cell_type": "code",
   "execution_count": 2,
   "id": "6c735933",
   "metadata": {
    "scrolled": true
   },
   "outputs": [],
   "source": [
    "#import the required datasets one by one\n",
    "data1=pd.read_csv('olist_order_items_dataset.csv')\n",
    "data2=pd.read_csv('olist_order_payments_dataset.csv')\n",
    "data3=pd.read_csv('olist_order_reviews_dataset.csv')\n",
    "data4=pd.read_csv('olist_orders_dataset.csv')\n",
    "pd.set_option('display.max_columns', None)"
   ]
  },
  {
   "cell_type": "code",
   "execution_count": 3,
   "id": "bb151e0c",
   "metadata": {},
   "outputs": [
    {
     "name": "stdout",
     "output_type": "stream",
     "text": [
      "data1 = Index(['order_id', 'order_item_id', 'product_id', 'seller_id',\n",
      "       'shipping_limit_date', 'price', 'freight_value'],\n",
      "      dtype='object')\n",
      "\n",
      "data2 = Index(['order_id', 'payment_sequential', 'payment_type',\n",
      "       'payment_installments', 'payment_value'],\n",
      "      dtype='object')\n",
      "\n",
      "data3 = Index(['review_id', 'order_id', 'review_score', 'review_comment_title',\n",
      "       'review_comment_message', 'review_creation_date',\n",
      "       'review_answer_timestamp'],\n",
      "      dtype='object')\n",
      "\n",
      "data4 = Index(['order_id', 'customer_id', 'order_status', 'order_purchase_timestamp',\n",
      "       'order_approved_at', 'order_delivered_carrier_date',\n",
      "       'order_delivered_customer_date', 'order_estimated_delivery_date'],\n",
      "      dtype='object')\n"
     ]
    }
   ],
   "source": [
    "print(f'data1 = {data1.columns}\\n')\n",
    "print(f'data2 = {data2.columns}\\n')\n",
    "print(f'data3 = {data3.columns}\\n')\n",
    "print(f'data4 = {data4.columns}')"
   ]
  },
  {
   "cell_type": "markdown",
   "id": "9e4a3e18",
   "metadata": {},
   "source": [
    "### Preprocessing"
   ]
  },
  {
   "cell_type": "code",
   "execution_count": 4,
   "id": "9dcbc78f",
   "metadata": {},
   "outputs": [],
   "source": [
    "#join multiple tables with foreign key column 'oder_id'\n",
    "df=pd.merge(data1,data4,left_on='order_id', right_on='order_id')\n",
    "df=pd.merge(df,data2,left_on='order_id', right_on='order_id')\n",
    "df=pd.merge(df,data3.iloc[:,[1,2]],left_on='order_id',right_on='order_id')"
   ]
  },
  {
   "cell_type": "code",
   "execution_count": 5,
   "id": "8108af04",
   "metadata": {
    "scrolled": true
   },
   "outputs": [
    {
     "data": {
      "text/html": [
       "<div>\n",
       "<style scoped>\n",
       "    .dataframe tbody tr th:only-of-type {\n",
       "        vertical-align: middle;\n",
       "    }\n",
       "\n",
       "    .dataframe tbody tr th {\n",
       "        vertical-align: top;\n",
       "    }\n",
       "\n",
       "    .dataframe thead th {\n",
       "        text-align: right;\n",
       "    }\n",
       "</style>\n",
       "<table border=\"1\" class=\"dataframe\">\n",
       "  <thead>\n",
       "    <tr style=\"text-align: right;\">\n",
       "      <th></th>\n",
       "      <th>order_id</th>\n",
       "      <th>order_item_id</th>\n",
       "      <th>product_id</th>\n",
       "      <th>seller_id</th>\n",
       "      <th>shipping_limit_date</th>\n",
       "      <th>price</th>\n",
       "      <th>freight_value</th>\n",
       "      <th>customer_id</th>\n",
       "      <th>order_status</th>\n",
       "      <th>order_purchase_timestamp</th>\n",
       "      <th>order_approved_at</th>\n",
       "      <th>order_delivered_carrier_date</th>\n",
       "      <th>order_delivered_customer_date</th>\n",
       "      <th>order_estimated_delivery_date</th>\n",
       "      <th>payment_sequential</th>\n",
       "      <th>payment_type</th>\n",
       "      <th>payment_installments</th>\n",
       "      <th>payment_value</th>\n",
       "      <th>review_score</th>\n",
       "    </tr>\n",
       "  </thead>\n",
       "  <tbody>\n",
       "    <tr>\n",
       "      <th>0</th>\n",
       "      <td>00010242fe8c5a6d1ba2dd792cb16214</td>\n",
       "      <td>1</td>\n",
       "      <td>4244733e06e7ecb4970a6e2683c13e61</td>\n",
       "      <td>48436dade18ac8b2bce089ec2a041202</td>\n",
       "      <td>2017-09-19 09:45:35</td>\n",
       "      <td>58.90</td>\n",
       "      <td>13.29</td>\n",
       "      <td>3ce436f183e68e07877b285a838db11a</td>\n",
       "      <td>delivered</td>\n",
       "      <td>2017-09-13 08:59:02</td>\n",
       "      <td>2017-09-13 09:45:35</td>\n",
       "      <td>2017-09-19 18:34:16</td>\n",
       "      <td>2017-09-20 23:43:48</td>\n",
       "      <td>2017-09-29 00:00:00</td>\n",
       "      <td>1</td>\n",
       "      <td>credit_card</td>\n",
       "      <td>2</td>\n",
       "      <td>72.19</td>\n",
       "      <td>5</td>\n",
       "    </tr>\n",
       "    <tr>\n",
       "      <th>1</th>\n",
       "      <td>00018f77f2f0320c557190d7a144bdd3</td>\n",
       "      <td>1</td>\n",
       "      <td>e5f2d52b802189ee658865ca93d83a8f</td>\n",
       "      <td>dd7ddc04e1b6c2c614352b383efe2d36</td>\n",
       "      <td>2017-05-03 11:05:13</td>\n",
       "      <td>239.90</td>\n",
       "      <td>19.93</td>\n",
       "      <td>f6dd3ec061db4e3987629fe6b26e5cce</td>\n",
       "      <td>delivered</td>\n",
       "      <td>2017-04-26 10:53:06</td>\n",
       "      <td>2017-04-26 11:05:13</td>\n",
       "      <td>2017-05-04 14:35:00</td>\n",
       "      <td>2017-05-12 16:04:24</td>\n",
       "      <td>2017-05-15 00:00:00</td>\n",
       "      <td>1</td>\n",
       "      <td>credit_card</td>\n",
       "      <td>3</td>\n",
       "      <td>259.83</td>\n",
       "      <td>4</td>\n",
       "    </tr>\n",
       "    <tr>\n",
       "      <th>2</th>\n",
       "      <td>000229ec398224ef6ca0657da4fc703e</td>\n",
       "      <td>1</td>\n",
       "      <td>c777355d18b72b67abbeef9df44fd0fd</td>\n",
       "      <td>5b51032eddd242adc84c38acab88f23d</td>\n",
       "      <td>2018-01-18 14:48:30</td>\n",
       "      <td>199.00</td>\n",
       "      <td>17.87</td>\n",
       "      <td>6489ae5e4333f3693df5ad4372dab6d3</td>\n",
       "      <td>delivered</td>\n",
       "      <td>2018-01-14 14:33:31</td>\n",
       "      <td>2018-01-14 14:48:30</td>\n",
       "      <td>2018-01-16 12:36:48</td>\n",
       "      <td>2018-01-22 13:19:16</td>\n",
       "      <td>2018-02-05 00:00:00</td>\n",
       "      <td>1</td>\n",
       "      <td>credit_card</td>\n",
       "      <td>5</td>\n",
       "      <td>216.87</td>\n",
       "      <td>5</td>\n",
       "    </tr>\n",
       "    <tr>\n",
       "      <th>3</th>\n",
       "      <td>00024acbcdf0a6daa1e931b038114c75</td>\n",
       "      <td>1</td>\n",
       "      <td>7634da152a4610f1595efa32f14722fc</td>\n",
       "      <td>9d7a1d34a5052409006425275ba1c2b4</td>\n",
       "      <td>2018-08-15 10:10:18</td>\n",
       "      <td>12.99</td>\n",
       "      <td>12.79</td>\n",
       "      <td>d4eb9395c8c0431ee92fce09860c5a06</td>\n",
       "      <td>delivered</td>\n",
       "      <td>2018-08-08 10:00:35</td>\n",
       "      <td>2018-08-08 10:10:18</td>\n",
       "      <td>2018-08-10 13:28:00</td>\n",
       "      <td>2018-08-14 13:32:39</td>\n",
       "      <td>2018-08-20 00:00:00</td>\n",
       "      <td>1</td>\n",
       "      <td>credit_card</td>\n",
       "      <td>2</td>\n",
       "      <td>25.78</td>\n",
       "      <td>4</td>\n",
       "    </tr>\n",
       "    <tr>\n",
       "      <th>4</th>\n",
       "      <td>00042b26cf59d7ce69dfabb4e55b4fd9</td>\n",
       "      <td>1</td>\n",
       "      <td>ac6c3623068f30de03045865e4e10089</td>\n",
       "      <td>df560393f3a51e74553ab94004ba5c87</td>\n",
       "      <td>2017-02-13 13:57:51</td>\n",
       "      <td>199.90</td>\n",
       "      <td>18.14</td>\n",
       "      <td>58dbd0b2d70206bf40e62cd34e84d795</td>\n",
       "      <td>delivered</td>\n",
       "      <td>2017-02-04 13:57:51</td>\n",
       "      <td>2017-02-04 14:10:13</td>\n",
       "      <td>2017-02-16 09:46:09</td>\n",
       "      <td>2017-03-01 16:42:31</td>\n",
       "      <td>2017-03-17 00:00:00</td>\n",
       "      <td>1</td>\n",
       "      <td>credit_card</td>\n",
       "      <td>3</td>\n",
       "      <td>218.04</td>\n",
       "      <td>5</td>\n",
       "    </tr>\n",
       "    <tr>\n",
       "      <th>...</th>\n",
       "      <td>...</td>\n",
       "      <td>...</td>\n",
       "      <td>...</td>\n",
       "      <td>...</td>\n",
       "      <td>...</td>\n",
       "      <td>...</td>\n",
       "      <td>...</td>\n",
       "      <td>...</td>\n",
       "      <td>...</td>\n",
       "      <td>...</td>\n",
       "      <td>...</td>\n",
       "      <td>...</td>\n",
       "      <td>...</td>\n",
       "      <td>...</td>\n",
       "      <td>...</td>\n",
       "      <td>...</td>\n",
       "      <td>...</td>\n",
       "      <td>...</td>\n",
       "      <td>...</td>\n",
       "    </tr>\n",
       "    <tr>\n",
       "      <th>117324</th>\n",
       "      <td>fffc94f6ce00a00581880bf54a75a037</td>\n",
       "      <td>1</td>\n",
       "      <td>4aa6014eceb682077f9dc4bffebc05b0</td>\n",
       "      <td>b8bc237ba3788b23da09c0f1f3a3288c</td>\n",
       "      <td>2018-05-02 04:11:01</td>\n",
       "      <td>299.99</td>\n",
       "      <td>43.41</td>\n",
       "      <td>b51593916b4b8e0d6f66f2ae24f2673d</td>\n",
       "      <td>delivered</td>\n",
       "      <td>2018-04-23 13:57:06</td>\n",
       "      <td>2018-04-25 04:11:01</td>\n",
       "      <td>2018-04-25 12:09:00</td>\n",
       "      <td>2018-05-10 22:56:40</td>\n",
       "      <td>2018-05-18 00:00:00</td>\n",
       "      <td>1</td>\n",
       "      <td>boleto</td>\n",
       "      <td>1</td>\n",
       "      <td>343.40</td>\n",
       "      <td>5</td>\n",
       "    </tr>\n",
       "    <tr>\n",
       "      <th>117325</th>\n",
       "      <td>fffcd46ef2263f404302a634eb57f7eb</td>\n",
       "      <td>1</td>\n",
       "      <td>32e07fd915822b0765e448c4dd74c828</td>\n",
       "      <td>f3c38ab652836d21de61fb8314b69182</td>\n",
       "      <td>2018-07-20 04:31:48</td>\n",
       "      <td>350.00</td>\n",
       "      <td>36.53</td>\n",
       "      <td>84c5d4fbaf120aae381fad077416eaa0</td>\n",
       "      <td>delivered</td>\n",
       "      <td>2018-07-14 10:26:46</td>\n",
       "      <td>2018-07-17 04:31:48</td>\n",
       "      <td>2018-07-17 08:05:00</td>\n",
       "      <td>2018-07-23 20:31:55</td>\n",
       "      <td>2018-08-01 00:00:00</td>\n",
       "      <td>1</td>\n",
       "      <td>boleto</td>\n",
       "      <td>1</td>\n",
       "      <td>386.53</td>\n",
       "      <td>5</td>\n",
       "    </tr>\n",
       "    <tr>\n",
       "      <th>117326</th>\n",
       "      <td>fffce4705a9662cd70adb13d4a31832d</td>\n",
       "      <td>1</td>\n",
       "      <td>72a30483855e2eafc67aee5dc2560482</td>\n",
       "      <td>c3cfdc648177fdbbbb35635a37472c53</td>\n",
       "      <td>2017-10-30 17:14:25</td>\n",
       "      <td>99.90</td>\n",
       "      <td>16.95</td>\n",
       "      <td>29309aa813182aaddc9b259e31b870e6</td>\n",
       "      <td>delivered</td>\n",
       "      <td>2017-10-23 17:07:56</td>\n",
       "      <td>2017-10-24 17:14:25</td>\n",
       "      <td>2017-10-26 15:13:14</td>\n",
       "      <td>2017-10-28 12:22:22</td>\n",
       "      <td>2017-11-10 00:00:00</td>\n",
       "      <td>1</td>\n",
       "      <td>credit_card</td>\n",
       "      <td>3</td>\n",
       "      <td>116.85</td>\n",
       "      <td>5</td>\n",
       "    </tr>\n",
       "    <tr>\n",
       "      <th>117327</th>\n",
       "      <td>fffe18544ffabc95dfada21779c9644f</td>\n",
       "      <td>1</td>\n",
       "      <td>9c422a519119dcad7575db5af1ba540e</td>\n",
       "      <td>2b3e4a2a3ea8e01938cabda2a3e5cc79</td>\n",
       "      <td>2017-08-21 00:04:32</td>\n",
       "      <td>55.99</td>\n",
       "      <td>8.72</td>\n",
       "      <td>b5e6afd5a41800fdf401e0272ca74655</td>\n",
       "      <td>delivered</td>\n",
       "      <td>2017-08-14 23:02:59</td>\n",
       "      <td>2017-08-15 00:04:32</td>\n",
       "      <td>2017-08-15 19:02:53</td>\n",
       "      <td>2017-08-16 21:59:40</td>\n",
       "      <td>2017-08-25 00:00:00</td>\n",
       "      <td>1</td>\n",
       "      <td>credit_card</td>\n",
       "      <td>3</td>\n",
       "      <td>64.71</td>\n",
       "      <td>5</td>\n",
       "    </tr>\n",
       "    <tr>\n",
       "      <th>117328</th>\n",
       "      <td>fffe41c64501cc87c801fd61db3f6244</td>\n",
       "      <td>1</td>\n",
       "      <td>350688d9dc1e75ff97be326363655e01</td>\n",
       "      <td>f7ccf836d21b2fb1de37564105216cc1</td>\n",
       "      <td>2018-06-12 17:10:13</td>\n",
       "      <td>43.00</td>\n",
       "      <td>12.79</td>\n",
       "      <td>96d649da0cc4ff33bb408b199d4c7dcf</td>\n",
       "      <td>delivered</td>\n",
       "      <td>2018-06-09 17:00:18</td>\n",
       "      <td>2018-06-09 17:10:13</td>\n",
       "      <td>2018-06-11 14:11:00</td>\n",
       "      <td>2018-06-14 17:56:26</td>\n",
       "      <td>2018-06-28 00:00:00</td>\n",
       "      <td>1</td>\n",
       "      <td>credit_card</td>\n",
       "      <td>1</td>\n",
       "      <td>55.79</td>\n",
       "      <td>5</td>\n",
       "    </tr>\n",
       "  </tbody>\n",
       "</table>\n",
       "<p>117329 rows × 19 columns</p>\n",
       "</div>"
      ],
      "text/plain": [
       "                                order_id  order_item_id  \\\n",
       "0       00010242fe8c5a6d1ba2dd792cb16214              1   \n",
       "1       00018f77f2f0320c557190d7a144bdd3              1   \n",
       "2       000229ec398224ef6ca0657da4fc703e              1   \n",
       "3       00024acbcdf0a6daa1e931b038114c75              1   \n",
       "4       00042b26cf59d7ce69dfabb4e55b4fd9              1   \n",
       "...                                  ...            ...   \n",
       "117324  fffc94f6ce00a00581880bf54a75a037              1   \n",
       "117325  fffcd46ef2263f404302a634eb57f7eb              1   \n",
       "117326  fffce4705a9662cd70adb13d4a31832d              1   \n",
       "117327  fffe18544ffabc95dfada21779c9644f              1   \n",
       "117328  fffe41c64501cc87c801fd61db3f6244              1   \n",
       "\n",
       "                              product_id                         seller_id  \\\n",
       "0       4244733e06e7ecb4970a6e2683c13e61  48436dade18ac8b2bce089ec2a041202   \n",
       "1       e5f2d52b802189ee658865ca93d83a8f  dd7ddc04e1b6c2c614352b383efe2d36   \n",
       "2       c777355d18b72b67abbeef9df44fd0fd  5b51032eddd242adc84c38acab88f23d   \n",
       "3       7634da152a4610f1595efa32f14722fc  9d7a1d34a5052409006425275ba1c2b4   \n",
       "4       ac6c3623068f30de03045865e4e10089  df560393f3a51e74553ab94004ba5c87   \n",
       "...                                  ...                               ...   \n",
       "117324  4aa6014eceb682077f9dc4bffebc05b0  b8bc237ba3788b23da09c0f1f3a3288c   \n",
       "117325  32e07fd915822b0765e448c4dd74c828  f3c38ab652836d21de61fb8314b69182   \n",
       "117326  72a30483855e2eafc67aee5dc2560482  c3cfdc648177fdbbbb35635a37472c53   \n",
       "117327  9c422a519119dcad7575db5af1ba540e  2b3e4a2a3ea8e01938cabda2a3e5cc79   \n",
       "117328  350688d9dc1e75ff97be326363655e01  f7ccf836d21b2fb1de37564105216cc1   \n",
       "\n",
       "        shipping_limit_date   price  freight_value  \\\n",
       "0       2017-09-19 09:45:35   58.90          13.29   \n",
       "1       2017-05-03 11:05:13  239.90          19.93   \n",
       "2       2018-01-18 14:48:30  199.00          17.87   \n",
       "3       2018-08-15 10:10:18   12.99          12.79   \n",
       "4       2017-02-13 13:57:51  199.90          18.14   \n",
       "...                     ...     ...            ...   \n",
       "117324  2018-05-02 04:11:01  299.99          43.41   \n",
       "117325  2018-07-20 04:31:48  350.00          36.53   \n",
       "117326  2017-10-30 17:14:25   99.90          16.95   \n",
       "117327  2017-08-21 00:04:32   55.99           8.72   \n",
       "117328  2018-06-12 17:10:13   43.00          12.79   \n",
       "\n",
       "                             customer_id order_status  \\\n",
       "0       3ce436f183e68e07877b285a838db11a    delivered   \n",
       "1       f6dd3ec061db4e3987629fe6b26e5cce    delivered   \n",
       "2       6489ae5e4333f3693df5ad4372dab6d3    delivered   \n",
       "3       d4eb9395c8c0431ee92fce09860c5a06    delivered   \n",
       "4       58dbd0b2d70206bf40e62cd34e84d795    delivered   \n",
       "...                                  ...          ...   \n",
       "117324  b51593916b4b8e0d6f66f2ae24f2673d    delivered   \n",
       "117325  84c5d4fbaf120aae381fad077416eaa0    delivered   \n",
       "117326  29309aa813182aaddc9b259e31b870e6    delivered   \n",
       "117327  b5e6afd5a41800fdf401e0272ca74655    delivered   \n",
       "117328  96d649da0cc4ff33bb408b199d4c7dcf    delivered   \n",
       "\n",
       "       order_purchase_timestamp    order_approved_at  \\\n",
       "0           2017-09-13 08:59:02  2017-09-13 09:45:35   \n",
       "1           2017-04-26 10:53:06  2017-04-26 11:05:13   \n",
       "2           2018-01-14 14:33:31  2018-01-14 14:48:30   \n",
       "3           2018-08-08 10:00:35  2018-08-08 10:10:18   \n",
       "4           2017-02-04 13:57:51  2017-02-04 14:10:13   \n",
       "...                         ...                  ...   \n",
       "117324      2018-04-23 13:57:06  2018-04-25 04:11:01   \n",
       "117325      2018-07-14 10:26:46  2018-07-17 04:31:48   \n",
       "117326      2017-10-23 17:07:56  2017-10-24 17:14:25   \n",
       "117327      2017-08-14 23:02:59  2017-08-15 00:04:32   \n",
       "117328      2018-06-09 17:00:18  2018-06-09 17:10:13   \n",
       "\n",
       "       order_delivered_carrier_date order_delivered_customer_date  \\\n",
       "0               2017-09-19 18:34:16           2017-09-20 23:43:48   \n",
       "1               2017-05-04 14:35:00           2017-05-12 16:04:24   \n",
       "2               2018-01-16 12:36:48           2018-01-22 13:19:16   \n",
       "3               2018-08-10 13:28:00           2018-08-14 13:32:39   \n",
       "4               2017-02-16 09:46:09           2017-03-01 16:42:31   \n",
       "...                             ...                           ...   \n",
       "117324          2018-04-25 12:09:00           2018-05-10 22:56:40   \n",
       "117325          2018-07-17 08:05:00           2018-07-23 20:31:55   \n",
       "117326          2017-10-26 15:13:14           2017-10-28 12:22:22   \n",
       "117327          2017-08-15 19:02:53           2017-08-16 21:59:40   \n",
       "117328          2018-06-11 14:11:00           2018-06-14 17:56:26   \n",
       "\n",
       "       order_estimated_delivery_date  payment_sequential payment_type  \\\n",
       "0                2017-09-29 00:00:00                   1  credit_card   \n",
       "1                2017-05-15 00:00:00                   1  credit_card   \n",
       "2                2018-02-05 00:00:00                   1  credit_card   \n",
       "3                2018-08-20 00:00:00                   1  credit_card   \n",
       "4                2017-03-17 00:00:00                   1  credit_card   \n",
       "...                              ...                 ...          ...   \n",
       "117324           2018-05-18 00:00:00                   1       boleto   \n",
       "117325           2018-08-01 00:00:00                   1       boleto   \n",
       "117326           2017-11-10 00:00:00                   1  credit_card   \n",
       "117327           2017-08-25 00:00:00                   1  credit_card   \n",
       "117328           2018-06-28 00:00:00                   1  credit_card   \n",
       "\n",
       "        payment_installments  payment_value  review_score  \n",
       "0                          2          72.19             5  \n",
       "1                          3         259.83             4  \n",
       "2                          5         216.87             5  \n",
       "3                          2          25.78             4  \n",
       "4                          3         218.04             5  \n",
       "...                      ...            ...           ...  \n",
       "117324                     1         343.40             5  \n",
       "117325                     1         386.53             5  \n",
       "117326                     3         116.85             5  \n",
       "117327                     3          64.71             5  \n",
       "117328                     1          55.79             5  \n",
       "\n",
       "[117329 rows x 19 columns]"
      ]
     },
     "metadata": {},
     "output_type": "display_data"
    }
   ],
   "source": [
    "display(df)"
   ]
  },
  {
   "cell_type": "markdown",
   "id": "fa684a3f",
   "metadata": {},
   "source": [
    "At this stage, compare transaction data that has shipping costs (freight value > 0) to transaction data that is free of shipping costs (freight value = 0). Random sampling is needed for transaction data that has shipping costs because it has a larger number of datasets than transaction data with free shipping costs, so the sampling process will follow the smallest number of dataset rows (downsampling).\n",
    "\n",
    "Even though the sampling process is carried out randomly, the average value of transaction value in data that has shipping costs must be equal to or at least close to the average value in data that has free shipping costs."
   ]
  },
  {
   "cell_type": "code",
   "execution_count": 8,
   "id": "d282c08a",
   "metadata": {},
   "outputs": [],
   "source": [
    "#combine sampling data that has shipping costs with transaction data that has free shipping costs\n",
    "data=df.copy()\n",
    "data['shipping_cost']=np.where(data['freight_value']==0, 'Free Shipping', 'Add Shipping')"
   ]
  },
  {
   "cell_type": "code",
   "execution_count": 9,
   "id": "50928b42",
   "metadata": {},
   "outputs": [
    {
     "data": {
      "text/plain": [
       "Add Shipping     116940\n",
       "Free Shipping       389\n",
       "Name: shipping_cost, dtype: int64"
      ]
     },
     "execution_count": 9,
     "metadata": {},
     "output_type": "execute_result"
    }
   ],
   "source": [
    "#check composition column shipping_cost\n",
    "data.shipping_cost.value_counts()"
   ]
  },
  {
   "cell_type": "code",
   "execution_count": 10,
   "id": "401e198b",
   "metadata": {
    "scrolled": false
   },
   "outputs": [
    {
     "name": "stdout",
     "output_type": "stream",
     "text": [
      "duplicated :  419\n",
      "null : 0\n"
     ]
    }
   ],
   "source": [
    "#check duplicated value\n",
    "print('duplicated : ', data.duplicated().sum())\n",
    "\n",
    "#check null value\n",
    "print('null :' , data['review_score'].isnull().sum())"
   ]
  },
  {
   "cell_type": "code",
   "execution_count": 11,
   "id": "417442da",
   "metadata": {},
   "outputs": [],
   "source": [
    "#drop data duplicated\n",
    "data.drop_duplicates(inplace=True)"
   ]
  },
  {
   "cell_type": "markdown",
   "id": "6354e7db",
   "metadata": {},
   "source": [
    "### Exploratory Analysis"
   ]
  },
  {
   "cell_type": "code",
   "execution_count": 12,
   "id": "03e9b719",
   "metadata": {
    "scrolled": false
   },
   "outputs": [
    {
     "data": {
      "text/html": [
       "<div>\n",
       "<style scoped>\n",
       "    .dataframe tbody tr th:only-of-type {\n",
       "        vertical-align: middle;\n",
       "    }\n",
       "\n",
       "    .dataframe tbody tr th {\n",
       "        vertical-align: top;\n",
       "    }\n",
       "\n",
       "    .dataframe thead th {\n",
       "        text-align: right;\n",
       "    }\n",
       "</style>\n",
       "<table border=\"1\" class=\"dataframe\">\n",
       "  <thead>\n",
       "    <tr style=\"text-align: right;\">\n",
       "      <th></th>\n",
       "      <th>mean</th>\n",
       "      <th>std_deviation</th>\n",
       "      <th>std_error</th>\n",
       "    </tr>\n",
       "    <tr>\n",
       "      <th>shipping_cost</th>\n",
       "      <th></th>\n",
       "      <th></th>\n",
       "      <th></th>\n",
       "    </tr>\n",
       "  </thead>\n",
       "  <tbody>\n",
       "    <tr>\n",
       "      <th>Add Shipping</th>\n",
       "      <td>4.029857</td>\n",
       "      <td>1.388390</td>\n",
       "      <td>0.004067</td>\n",
       "    </tr>\n",
       "    <tr>\n",
       "      <th>Free Shipping</th>\n",
       "      <td>4.280206</td>\n",
       "      <td>1.215218</td>\n",
       "      <td>0.061614</td>\n",
       "    </tr>\n",
       "  </tbody>\n",
       "</table>\n",
       "</div>"
      ],
      "text/plain": [
       "                   mean  std_deviation  std_error\n",
       "shipping_cost                                    \n",
       "Add Shipping   4.029857       1.388390   0.004067\n",
       "Free Shipping  4.280206       1.215218   0.061614"
      ]
     },
     "execution_count": 12,
     "metadata": {},
     "output_type": "execute_result"
    }
   ],
   "source": [
    "#check mean and standard deviation each group\n",
    "means = data.groupby('shipping_cost')['review_score']\n",
    "std_p = lambda x: np.std(x, ddof=0)           \n",
    "se_p = lambda x: stats.sem(x, ddof=0)\n",
    "means = means.agg([np.mean, std_p, se_p])\n",
    "means.columns = ['mean', 'std_deviation', 'std_error']\n",
    "means.style.format('{:.3f}')\n",
    "means"
   ]
  },
  {
   "cell_type": "code",
   "execution_count": 13,
   "id": "f6301e5d",
   "metadata": {
    "scrolled": true
   },
   "outputs": [
    {
     "data": {
      "image/png": "[encoded data removed]",
      "text/plain": [
       "<Figure size 864x288 with 2 Axes>"
      ]
     },
     "metadata": {
      "needs_background": "light"
     },
     "output_type": "display_data"
    }
   ],
   "source": [
    "#show distribution review score each group\n",
    "plt.figure(figsize=(12,4))\n",
    "plt.subplot(1, 2, 1)\n",
    "data[data.freight_value==0].groupby('review_score').size().plot.bar(label='Free Shipping')\n",
    "plt.xticks(rotation = 0)\n",
    "plt.legend()\n",
    "\n",
    "plt.subplot(1, 2, 2)\n",
    "data[data.freight_value>0].groupby('review_score').size().plot.bar(label='Add Shipping')\n",
    "plt.xticks(rotation = 0)\n",
    "plt.legend()\n",
    "plt.show()"
   ]
  },
  {
   "cell_type": "code",
   "execution_count": 14,
   "id": "5c151a37",
   "metadata": {
    "scrolled": false
   },
   "outputs": [
    {
     "data": {
      "text/html": [
       "<div>\n",
       "<style scoped>\n",
       "    .dataframe tbody tr th:only-of-type {\n",
       "        vertical-align: middle;\n",
       "    }\n",
       "\n",
       "    .dataframe tbody tr th {\n",
       "        vertical-align: top;\n",
       "    }\n",
       "\n",
       "    .dataframe thead th {\n",
       "        text-align: right;\n",
       "    }\n",
       "</style>\n",
       "<table border=\"1\" class=\"dataframe\">\n",
       "  <thead>\n",
       "    <tr style=\"text-align: right;\">\n",
       "      <th></th>\n",
       "      <th>review_score</th>\n",
       "      <th>shipping_cost</th>\n",
       "      <th>conversion_rate</th>\n",
       "    </tr>\n",
       "  </thead>\n",
       "  <tbody>\n",
       "    <tr>\n",
       "      <th>Add Shipping</th>\n",
       "      <td>469563</td>\n",
       "      <td>116521</td>\n",
       "      <td>4.029857</td>\n",
       "    </tr>\n",
       "    <tr>\n",
       "      <th>Free Shipping</th>\n",
       "      <td>1665</td>\n",
       "      <td>389</td>\n",
       "      <td>4.280206</td>\n",
       "    </tr>\n",
       "  </tbody>\n",
       "</table>\n",
       "</div>"
      ],
      "text/plain": [
       "               review_score  shipping_cost  conversion_rate\n",
       "Add Shipping         469563         116521         4.029857\n",
       "Free Shipping          1665            389         4.280206"
      ]
     },
     "execution_count": 14,
     "metadata": {},
     "output_type": "execute_result"
    }
   ],
   "source": [
    "#generate dataframe for experiment with A/B Testing\n",
    "data_test=pd.concat([data.groupby('shipping_cost')['review_score'].sum(),\n",
    "           data.shipping_cost.value_counts()],axis=1)\n",
    "data_test['conversion_rate']=data_test.review_score/data_test.shipping_cost\n",
    "data_test"
   ]
  },
  {
   "cell_type": "code",
   "execution_count": 15,
   "id": "c12f5538",
   "metadata": {},
   "outputs": [
    {
     "data": {
      "image/png": "[encoded data removed]",
      "text/plain": [
       "<Figure size 360x360 with 1 Axes>"
      ]
     },
     "metadata": {
      "needs_background": "light"
     },
     "output_type": "display_data"
    }
   ],
   "source": [
    "#visualization conversion rate (mean) with bar plot\n",
    "x1=data_test.iloc[0,0]/5\n",
    "n1=data_test.iloc[0,1]\n",
    "x2=data_test.iloc[1,0]/5\n",
    "n2=data_test.iloc[1,1]\n",
    "x=['Add Shipping','Free Shipping']\n",
    "y=[x1/n1,x2/n2]\n",
    "y=list(np.around(np.array(np.array(y))*100,2))\n",
    "plt.figure(figsize=(5,5))\n",
    "plt.bar(x=x,height=y)\n",
    "plt.ylim(0,100)\n",
    "for i in range(len(x)):\n",
    "    plt.text(i, y[i], s=f'{y[i]}%', ha = 'center')"
   ]
  },
  {
   "cell_type": "markdown",
   "id": "b23d9866",
   "metadata": {},
   "source": [
    "Based on the data above, it shows that the conversion rate (mean) for transaction data with free shipping costs is greater than transaction data that has shipping costs. However, we cannot immediately conclude that the free shipping can affect the buyer review scores."
   ]
  },
  {
   "cell_type": "markdown",
   "id": "25807e53",
   "metadata": {},
   "source": [
    "### Z-Test Proportional"
   ]
  },
  {
   "cell_type": "markdown",
   "id": "5b2ab061",
   "metadata": {},
   "source": [
    "The t-test step begins by finding whether there is a relationship between two variables with the p value indicator:\n",
    "1. P-value > 0.05 will accept h0 and reject ha.\n",
    "This means that there is no relationship between two variables. So the transaction strategy with free shipping will not affect the review score of the buyer\n",
    "2. P-value <= 0.05 will accept ha and reject h0.\n",
    "This means that there is a relationship between two variables. So the transaction strategy with free shipping can influence the review score of the buyer"
   ]
  },
  {
   "cell_type": "code",
   "execution_count": 16,
   "id": "c426471d",
   "metadata": {
    "scrolled": true
   },
   "outputs": [
    {
     "name": "stdout",
     "output_type": "stream",
     "text": [
      " z-stat = -2.4938759820556546 \n",
      " p-value = 0.01263566840261157\n"
     ]
    }
   ],
   "source": [
    "#do a Z-test proportion to get the p-value\n",
    "count = np.array([x1,x2])\n",
    "nobs = np.array([n1,n2])\n",
    "z,p = proportions_ztest(count, nobs, value=0, alternative='two-sided')\n",
    "print(' z-stat = {z} \\n p-value = {p}'.format(z=z,p=p))"
   ]
  },
  {
   "cell_type": "markdown",
   "id": "2db4a518",
   "metadata": {},
   "source": [
    "The test results above show that the p-value shows a value of 0.0126 where the value is <= 0.05. This means that ha can be accepted and h0 will be rejected, so the shipping costs can influence the review score given by the buyer. Therefore, the results show that high conversion rate value in free shipping cost is very unlikely to be due to chance."
   ]
  }
 ],
 "metadata": {
  "kernelspec": {
   "display_name": "Python 3 (ipykernel)",
   "language": "python",
   "name": "python3"
  },
  "language_info": {
   "codemirror_mode": {
    "name": "ipython",
    "version": 3
   },
   "file_extension": ".py",
   "mimetype": "text/x-python",
   "name": "python",
   "nbconvert_exporter": "python",
   "pygments_lexer": "ipython3",
   "version": "3.8.6"
  }
 },
 "nbformat": 4,
 "nbformat_minor": 5
}
